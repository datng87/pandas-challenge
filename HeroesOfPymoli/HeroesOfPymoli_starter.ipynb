{
 "cells": [
  {
   "cell_type": "markdown",
   "metadata": {},
   "source": [
    "### Note\n",
    "* Instructions have been included for each segment. You do not have to follow them exactly, but they are included to help you think through the steps."
   ]
  },
  {
   "cell_type": "code",
   "execution_count": 512,
   "metadata": {},
   "outputs": [
    {
     "data": {
      "text/html": [
       "<div>\n",
       "<style scoped>\n",
       "    .dataframe tbody tr th:only-of-type {\n",
       "        vertical-align: middle;\n",
       "    }\n",
       "\n",
       "    .dataframe tbody tr th {\n",
       "        vertical-align: top;\n",
       "    }\n",
       "\n",
       "    .dataframe thead th {\n",
       "        text-align: right;\n",
       "    }\n",
       "</style>\n",
       "<table border=\"1\" class=\"dataframe\">\n",
       "  <thead>\n",
       "    <tr style=\"text-align: right;\">\n",
       "      <th></th>\n",
       "      <th>Purchase ID</th>\n",
       "      <th>SN</th>\n",
       "      <th>Age</th>\n",
       "      <th>Gender</th>\n",
       "      <th>Item ID</th>\n",
       "      <th>Item Name</th>\n",
       "      <th>Price</th>\n",
       "    </tr>\n",
       "  </thead>\n",
       "  <tbody>\n",
       "    <tr>\n",
       "      <th>0</th>\n",
       "      <td>0</td>\n",
       "      <td>Lisim78</td>\n",
       "      <td>20</td>\n",
       "      <td>Male</td>\n",
       "      <td>108</td>\n",
       "      <td>Extraction, Quickblade Of Trembling Hands</td>\n",
       "      <td>3.53</td>\n",
       "    </tr>\n",
       "    <tr>\n",
       "      <th>1</th>\n",
       "      <td>1</td>\n",
       "      <td>Lisovynya38</td>\n",
       "      <td>40</td>\n",
       "      <td>Male</td>\n",
       "      <td>143</td>\n",
       "      <td>Frenzied Scimitar</td>\n",
       "      <td>1.56</td>\n",
       "    </tr>\n",
       "    <tr>\n",
       "      <th>2</th>\n",
       "      <td>2</td>\n",
       "      <td>Ithergue48</td>\n",
       "      <td>24</td>\n",
       "      <td>Male</td>\n",
       "      <td>92</td>\n",
       "      <td>Final Critic</td>\n",
       "      <td>4.88</td>\n",
       "    </tr>\n",
       "    <tr>\n",
       "      <th>3</th>\n",
       "      <td>3</td>\n",
       "      <td>Chamassasya86</td>\n",
       "      <td>24</td>\n",
       "      <td>Male</td>\n",
       "      <td>100</td>\n",
       "      <td>Blindscythe</td>\n",
       "      <td>3.27</td>\n",
       "    </tr>\n",
       "    <tr>\n",
       "      <th>4</th>\n",
       "      <td>4</td>\n",
       "      <td>Iskosia90</td>\n",
       "      <td>23</td>\n",
       "      <td>Male</td>\n",
       "      <td>131</td>\n",
       "      <td>Fury</td>\n",
       "      <td>1.44</td>\n",
       "    </tr>\n",
       "  </tbody>\n",
       "</table>\n",
       "</div>"
      ],
      "text/plain": [
       "   Purchase ID             SN  Age Gender  Item ID  \\\n",
       "0            0        Lisim78   20   Male      108   \n",
       "1            1    Lisovynya38   40   Male      143   \n",
       "2            2     Ithergue48   24   Male       92   \n",
       "3            3  Chamassasya86   24   Male      100   \n",
       "4            4      Iskosia90   23   Male      131   \n",
       "\n",
       "                                   Item Name  Price  \n",
       "0  Extraction, Quickblade Of Trembling Hands   3.53  \n",
       "1                          Frenzied Scimitar   1.56  \n",
       "2                               Final Critic   4.88  \n",
       "3                                Blindscythe   3.27  \n",
       "4                                       Fury   1.44  "
      ]
     },
     "execution_count": 512,
     "metadata": {},
     "output_type": "execute_result"
    }
   ],
   "source": [
    "# Dependencies and Setup\n",
    "import pandas as pd\n",
    "\n",
    "# File to Load (Remember to Change These)\n",
    "file_to_load = \"Resources/purchase_data.csv\"\n",
    "\n",
    "# Read Purchasing File and store into Pandas data frame\n",
    "purchase_data = pd.read_csv(file_to_load)\n",
    "purchase_data.head()"
   ]
  },
  {
   "cell_type": "markdown",
   "metadata": {},
   "source": [
    "## Player Count"
   ]
  },
  {
   "cell_type": "markdown",
   "metadata": {},
   "source": [
    "* Display the total number of players\n"
   ]
  },
  {
   "cell_type": "code",
   "execution_count": 513,
   "metadata": {},
   "outputs": [
    {
     "data": {
      "text/html": [
       "<style type=\"text/css\">\n",
       "#T_f32ba_row0_col0 {\n",
       "  text-align: left;\n",
       "}\n",
       "</style>\n",
       "<table id=\"T_f32ba_\">\n",
       "  <thead>\n",
       "    <tr>\n",
       "      <th class=\"blank level0\" >&nbsp;</th>\n",
       "      <th class=\"col_heading level0 col0\" >Total Players</th>\n",
       "    </tr>\n",
       "  </thead>\n",
       "  <tbody>\n",
       "    <tr>\n",
       "      <th id=\"T_f32ba_level0_row0\" class=\"row_heading level0 row0\" >0</th>\n",
       "      <td id=\"T_f32ba_row0_col0\" class=\"data row0 col0\" >576</td>\n",
       "    </tr>\n",
       "  </tbody>\n",
       "</table>\n"
      ],
      "text/plain": [
       "<pandas.io.formats.style.Styler at 0x1ec49fe1888>"
      ]
     },
     "execution_count": 513,
     "metadata": {},
     "output_type": "execute_result"
    }
   ],
   "source": [
    "Total_player = purchase_data[\"SN\"].nunique()\n",
    "Total_players_df=pd.DataFrame({\"Total Players\":[Total_player]})\n",
    "left_aligned_Total_players_df = Total_players_df.style.set_properties(**{'text-align': 'left'})\n",
    "left_aligned_Total_players_df"
   ]
  },
  {
   "cell_type": "markdown",
   "metadata": {},
   "source": [
    "## Purchasing Analysis (Total)"
   ]
  },
  {
   "cell_type": "markdown",
   "metadata": {},
   "source": [
    "* Run basic calculations to obtain number of unique items, average price, etc.\n",
    "\n",
    "\n",
    "* Create a summary data frame to hold the results\n",
    "\n",
    "\n",
    "* Optional: give the displayed data cleaner formatting\n",
    "\n",
    "\n",
    "* Display the summary data frame\n"
   ]
  },
  {
   "cell_type": "code",
   "execution_count": 514,
   "metadata": {
    "scrolled": true
   },
   "outputs": [
    {
     "data": {
      "text/html": [
       "<style type=\"text/css\">\n",
       "#T_d4526_row0_col0, #T_d4526_row0_col1, #T_d4526_row0_col2, #T_d4526_row0_col3 {\n",
       "  text-align: left;\n",
       "}\n",
       "</style>\n",
       "<table id=\"T_d4526_\">\n",
       "  <thead>\n",
       "    <tr>\n",
       "      <th class=\"blank level0\" >&nbsp;</th>\n",
       "      <th class=\"col_heading level0 col0\" >Number of Unique Items</th>\n",
       "      <th class=\"col_heading level0 col1\" >Average Price</th>\n",
       "      <th class=\"col_heading level0 col2\" >Number of Purchases</th>\n",
       "      <th class=\"col_heading level0 col3\" >Total Revenue</th>\n",
       "    </tr>\n",
       "  </thead>\n",
       "  <tbody>\n",
       "    <tr>\n",
       "      <th id=\"T_d4526_level0_row0\" class=\"row_heading level0 row0\" >0</th>\n",
       "      <td id=\"T_d4526_row0_col0\" class=\"data row0 col0\" >179</td>\n",
       "      <td id=\"T_d4526_row0_col1\" class=\"data row0 col1\" >$3.05</td>\n",
       "      <td id=\"T_d4526_row0_col2\" class=\"data row0 col2\" >780</td>\n",
       "      <td id=\"T_d4526_row0_col3\" class=\"data row0 col3\" >$2,379.77</td>\n",
       "    </tr>\n",
       "  </tbody>\n",
       "</table>\n"
      ],
      "text/plain": [
       "<pandas.io.formats.style.Styler at 0x1ec4a135e88>"
      ]
     },
     "execution_count": 514,
     "metadata": {},
     "output_type": "execute_result"
    }
   ],
   "source": [
    "unique_items = purchase_data[\"Item Name\"].nunique()\n",
    "average_price = purchase_data[\"Price\"].mean()\n",
    "num_purchases = purchase_data[\"Purchase ID\"].count()\n",
    "total_revenue = purchase_data[\"Price\"].sum()\n",
    "summary_purchase_df = pd.DataFrame([{\"Number of Unique Items\":unique_items,\"Average Price\":average_price,\n",
    "                                    \"Number of Purchases\":num_purchases,\"Total Revenue\":total_revenue}])\n",
    "summary_purchase_df[\"Average Price\"] = summary_purchase_df[\"Average Price\"].map(\"${:.2f}\".format)\n",
    "summary_purchase_df[\"Total Revenue\"] = summary_purchase_df[\"Total Revenue\"].map(\"${:,.2f}\".format)\n",
    "left_aligned_summary_purchase_df = summary_purchase_df.style.set_properties(**{'text-align': 'left'})\n",
    "left_aligned_summary_purchase_df"
   ]
  },
  {
   "cell_type": "markdown",
   "metadata": {},
   "source": [
    "## Gender Demographics"
   ]
  },
  {
   "cell_type": "markdown",
   "metadata": {},
   "source": [
    "* Percentage and Count of Male Players\n",
    "\n",
    "\n",
    "* Percentage and Count of Female Players\n",
    "\n",
    "\n",
    "* Percentage and Count of Other / Non-Disclosed\n",
    "\n",
    "\n"
   ]
  },
  {
   "cell_type": "code",
   "execution_count": 515,
   "metadata": {},
   "outputs": [
    {
     "data": {
      "text/html": [
       "<style type=\"text/css\">\n",
       "#T_799fe_row0_col0, #T_799fe_row0_col1, #T_799fe_row1_col0, #T_799fe_row1_col1, #T_799fe_row2_col0, #T_799fe_row2_col1 {\n",
       "  text-align: left;\n",
       "}\n",
       "</style>\n",
       "<table id=\"T_799fe_\">\n",
       "  <thead>\n",
       "    <tr>\n",
       "      <th class=\"blank level0\" >&nbsp;</th>\n",
       "      <th class=\"col_heading level0 col0\" >Total Count</th>\n",
       "      <th class=\"col_heading level0 col1\" >Percentage of Players</th>\n",
       "    </tr>\n",
       "  </thead>\n",
       "  <tbody>\n",
       "    <tr>\n",
       "      <th id=\"T_799fe_level0_row0\" class=\"row_heading level0 row0\" >Male</th>\n",
       "      <td id=\"T_799fe_row0_col0\" class=\"data row0 col0\" >484</td>\n",
       "      <td id=\"T_799fe_row0_col1\" class=\"data row0 col1\" >84.03%</td>\n",
       "    </tr>\n",
       "    <tr>\n",
       "      <th id=\"T_799fe_level0_row1\" class=\"row_heading level0 row1\" >Female</th>\n",
       "      <td id=\"T_799fe_row1_col0\" class=\"data row1 col0\" >81</td>\n",
       "      <td id=\"T_799fe_row1_col1\" class=\"data row1 col1\" >14.06%</td>\n",
       "    </tr>\n",
       "    <tr>\n",
       "      <th id=\"T_799fe_level0_row2\" class=\"row_heading level0 row2\" >Other / Non-Disclosed</th>\n",
       "      <td id=\"T_799fe_row2_col0\" class=\"data row2 col0\" >11</td>\n",
       "      <td id=\"T_799fe_row2_col1\" class=\"data row2 col1\" >1.91%</td>\n",
       "    </tr>\n",
       "  </tbody>\n",
       "</table>\n"
      ],
      "text/plain": [
       "<pandas.io.formats.style.Styler at 0x1ec4a0fdf48>"
      ]
     },
     "execution_count": 515,
     "metadata": {},
     "output_type": "execute_result"
    }
   ],
   "source": [
    "my_index = purchase_data[\"Gender\"].unique()\n",
    "my_index_series = pd.Series(my_index)\n",
    "total_count=[]\n",
    "for i in my_index:\n",
    "    total_count.append(purchase_data.loc[purchase_data[\"Gender\"]==i,\"SN\"].nunique())\n",
    "gender_demo_df= pd.DataFrame({\"Total Count\":total_count,\n",
    "                              \"Percentage of Players\":[x /Total_player for x in total_count]})\n",
    "gender_demo_df.set_index(my_index_series,inplace=True)\n",
    "gender_demo_df.sort_values(\"Total Count\",ascending=False,inplace=True)\n",
    "gender_demo_df[\"Percentage of Players\"]=gender_demo_df[\"Percentage of Players\"].map(lambda x: x*100).map(\"{:.2f}%\".format)\n",
    "left_aligned_gender_demo_df = gender_demo_df.style.set_properties(**{'text-align': 'left'})\n",
    "left_aligned_gender_demo_df"
   ]
  },
  {
   "cell_type": "markdown",
   "metadata": {},
   "source": [
    "\n",
    "## Purchasing Analysis (Gender)"
   ]
  },
  {
   "cell_type": "markdown",
   "metadata": {},
   "source": [
    "* Run basic calculations to obtain purchase count, avg. purchase price, avg. purchase total per person etc. by gender\n",
    "\n",
    "\n",
    "\n",
    "\n",
    "* Create a summary data frame to hold the results\n",
    "\n",
    "\n",
    "* Optional: give the displayed data cleaner formatting\n",
    "\n",
    "\n",
    "* Display the summary data frame"
   ]
  },
  {
   "cell_type": "code",
   "execution_count": 516,
   "metadata": {},
   "outputs": [
    {
     "data": {
      "text/html": [
       "<style type=\"text/css\">\n",
       "#T_1dba3_row0_col0, #T_1dba3_row0_col1, #T_1dba3_row0_col2, #T_1dba3_row0_col3, #T_1dba3_row1_col0, #T_1dba3_row1_col1, #T_1dba3_row1_col2, #T_1dba3_row1_col3, #T_1dba3_row2_col0, #T_1dba3_row2_col1, #T_1dba3_row2_col2, #T_1dba3_row2_col3 {\n",
       "  text-align: left;\n",
       "}\n",
       "</style>\n",
       "<table id=\"T_1dba3_\">\n",
       "  <thead>\n",
       "    <tr>\n",
       "      <th class=\"blank level0\" >&nbsp;</th>\n",
       "      <th class=\"col_heading level0 col0\" >Purchase Count</th>\n",
       "      <th class=\"col_heading level0 col1\" >Average Purchase Price</th>\n",
       "      <th class=\"col_heading level0 col2\" >Total Purchase Value</th>\n",
       "      <th class=\"col_heading level0 col3\" >Avg Total Purchase per Person</th>\n",
       "    </tr>\n",
       "    <tr>\n",
       "      <th class=\"index_name level0\" >Gender</th>\n",
       "      <th class=\"blank col0\" >&nbsp;</th>\n",
       "      <th class=\"blank col1\" >&nbsp;</th>\n",
       "      <th class=\"blank col2\" >&nbsp;</th>\n",
       "      <th class=\"blank col3\" >&nbsp;</th>\n",
       "    </tr>\n",
       "  </thead>\n",
       "  <tbody>\n",
       "    <tr>\n",
       "      <th id=\"T_1dba3_level0_row0\" class=\"row_heading level0 row0\" >Female</th>\n",
       "      <td id=\"T_1dba3_row0_col0\" class=\"data row0 col0\" >113</td>\n",
       "      <td id=\"T_1dba3_row0_col1\" class=\"data row0 col1\" >$3.20</td>\n",
       "      <td id=\"T_1dba3_row0_col2\" class=\"data row0 col2\" >$361.94</td>\n",
       "      <td id=\"T_1dba3_row0_col3\" class=\"data row0 col3\" >$4.47</td>\n",
       "    </tr>\n",
       "    <tr>\n",
       "      <th id=\"T_1dba3_level0_row1\" class=\"row_heading level0 row1\" >Male</th>\n",
       "      <td id=\"T_1dba3_row1_col0\" class=\"data row1 col0\" >652</td>\n",
       "      <td id=\"T_1dba3_row1_col1\" class=\"data row1 col1\" >$3.02</td>\n",
       "      <td id=\"T_1dba3_row1_col2\" class=\"data row1 col2\" >$1,967.64</td>\n",
       "      <td id=\"T_1dba3_row1_col3\" class=\"data row1 col3\" >$4.07</td>\n",
       "    </tr>\n",
       "    <tr>\n",
       "      <th id=\"T_1dba3_level0_row2\" class=\"row_heading level0 row2\" >Other / Non-Disclosed</th>\n",
       "      <td id=\"T_1dba3_row2_col0\" class=\"data row2 col0\" >15</td>\n",
       "      <td id=\"T_1dba3_row2_col1\" class=\"data row2 col1\" >$3.35</td>\n",
       "      <td id=\"T_1dba3_row2_col2\" class=\"data row2 col2\" >$50.19</td>\n",
       "      <td id=\"T_1dba3_row2_col3\" class=\"data row2 col3\" >$4.56</td>\n",
       "    </tr>\n",
       "  </tbody>\n",
       "</table>\n"
      ],
      "text/plain": [
       "<pandas.io.formats.style.Styler at 0x1ec4a142d08>"
      ]
     },
     "execution_count": 516,
     "metadata": {},
     "output_type": "execute_result"
    }
   ],
   "source": [
    "gender = purchase_data[\"Gender\"].unique()\n",
    "purchase_count_gender=[]\n",
    "average_price_gender=[]\n",
    "total_price_gender=[]\n",
    "total_price_person_gender=[]\n",
    "for i in gender:\n",
    "    purchase_count_gender.append(purchase_data.loc[purchase_data[\"Gender\"]==i,:][\"Price\"].count())\n",
    "    average_price_gender.append(purchase_data.loc[purchase_data[\"Gender\"]==i,:][\"Price\"].mean())\n",
    "    total_price_gender.append(purchase_data.loc[purchase_data[\"Gender\"]==i,:][\"Price\"].sum())\n",
    "    total_price_person_gender.append(purchase_data.loc[purchase_data[\"Gender\"]==i,:][\"Price\"].sum() /\n",
    "                                     purchase_data.loc[purchase_data[\"Gender\"]==i,\"SN\"].nunique())\n",
    "gender_purchase_df = pd.DataFrame({\"Gender\":gender,\n",
    "                                   \"Purchase Count\":purchase_count_gender,\n",
    "                                   \"Average Purchase Price\":average_price_gender,\n",
    "                                   \"Total Purchase Value\":total_price_gender,\n",
    "                                   \"Avg Total Purchase per Person\":total_price_person_gender})\n",
    "group_gender_purchase_df = gender_purchase_df.groupby(\"Gender\").sum()\n",
    "group_gender_purchase_df[\"Average Purchase Price\"] = group_gender_purchase_df[\"Average Purchase Price\"].map(\"${:.2f}\".format)\n",
    "group_gender_purchase_df[\"Total Purchase Value\"] = group_gender_purchase_df[\"Total Purchase Value\"].map(\"${:,.2f}\".format)\n",
    "group_gender_purchase_df[\"Avg Total Purchase per Person\"] = group_gender_purchase_df[\"Avg Total Purchase per Person\"].map(\"${:.2f}\".format)\n",
    "left_aligned_gender_purchase_df = group_gender_purchase_df.style.set_properties(**{'text-align': 'left'})\n",
    "left_aligned_gender_purchase_df"
   ]
  },
  {
   "cell_type": "markdown",
   "metadata": {},
   "source": [
    "## Age Demographics"
   ]
  },
  {
   "cell_type": "markdown",
   "metadata": {},
   "source": [
    "* Establish bins for ages\n",
    "\n",
    "\n",
    "* Categorize the existing players using the age bins. Hint: use pd.cut()\n",
    "\n",
    "\n",
    "* Calculate the numbers and percentages by age group\n",
    "\n",
    "\n",
    "* Create a summary data frame to hold the results\n",
    "\n",
    "\n",
    "* Optional: round the percentage column to two decimal points\n",
    "\n",
    "\n",
    "* Display Age Demographics Table\n"
   ]
  },
  {
   "cell_type": "code",
   "execution_count": 517,
   "metadata": {},
   "outputs": [
    {
     "data": {
      "text/html": [
       "<style type=\"text/css\">\n",
       "#T_a5235_row0_col0, #T_a5235_row0_col1, #T_a5235_row1_col0, #T_a5235_row1_col1, #T_a5235_row2_col0, #T_a5235_row2_col1, #T_a5235_row3_col0, #T_a5235_row3_col1, #T_a5235_row4_col0, #T_a5235_row4_col1, #T_a5235_row5_col0, #T_a5235_row5_col1, #T_a5235_row6_col0, #T_a5235_row6_col1, #T_a5235_row7_col0, #T_a5235_row7_col1 {\n",
       "  text-align: left;\n",
       "}\n",
       "</style>\n",
       "<table id=\"T_a5235_\">\n",
       "  <thead>\n",
       "    <tr>\n",
       "      <th class=\"blank level0\" >&nbsp;</th>\n",
       "      <th class=\"col_heading level0 col0\" >Total Count</th>\n",
       "      <th class=\"col_heading level0 col1\" >Percentage of Players</th>\n",
       "    </tr>\n",
       "  </thead>\n",
       "  <tbody>\n",
       "    <tr>\n",
       "      <th id=\"T_a5235_level0_row0\" class=\"row_heading level0 row0\" ><10</th>\n",
       "      <td id=\"T_a5235_row0_col0\" class=\"data row0 col0\" >17</td>\n",
       "      <td id=\"T_a5235_row0_col1\" class=\"data row0 col1\" >2.95%</td>\n",
       "    </tr>\n",
       "    <tr>\n",
       "      <th id=\"T_a5235_level0_row1\" class=\"row_heading level0 row1\" >10-14</th>\n",
       "      <td id=\"T_a5235_row1_col0\" class=\"data row1 col0\" >22</td>\n",
       "      <td id=\"T_a5235_row1_col1\" class=\"data row1 col1\" >3.82%</td>\n",
       "    </tr>\n",
       "    <tr>\n",
       "      <th id=\"T_a5235_level0_row2\" class=\"row_heading level0 row2\" >15-19</th>\n",
       "      <td id=\"T_a5235_row2_col0\" class=\"data row2 col0\" >107</td>\n",
       "      <td id=\"T_a5235_row2_col1\" class=\"data row2 col1\" >18.58%</td>\n",
       "    </tr>\n",
       "    <tr>\n",
       "      <th id=\"T_a5235_level0_row3\" class=\"row_heading level0 row3\" >20-24</th>\n",
       "      <td id=\"T_a5235_row3_col0\" class=\"data row3 col0\" >258</td>\n",
       "      <td id=\"T_a5235_row3_col1\" class=\"data row3 col1\" >44.79%</td>\n",
       "    </tr>\n",
       "    <tr>\n",
       "      <th id=\"T_a5235_level0_row4\" class=\"row_heading level0 row4\" >25-29</th>\n",
       "      <td id=\"T_a5235_row4_col0\" class=\"data row4 col0\" >77</td>\n",
       "      <td id=\"T_a5235_row4_col1\" class=\"data row4 col1\" >13.37%</td>\n",
       "    </tr>\n",
       "    <tr>\n",
       "      <th id=\"T_a5235_level0_row5\" class=\"row_heading level0 row5\" >30-34</th>\n",
       "      <td id=\"T_a5235_row5_col0\" class=\"data row5 col0\" >52</td>\n",
       "      <td id=\"T_a5235_row5_col1\" class=\"data row5 col1\" >9.03%</td>\n",
       "    </tr>\n",
       "    <tr>\n",
       "      <th id=\"T_a5235_level0_row6\" class=\"row_heading level0 row6\" >35-39</th>\n",
       "      <td id=\"T_a5235_row6_col0\" class=\"data row6 col0\" >31</td>\n",
       "      <td id=\"T_a5235_row6_col1\" class=\"data row6 col1\" >5.38%</td>\n",
       "    </tr>\n",
       "    <tr>\n",
       "      <th id=\"T_a5235_level0_row7\" class=\"row_heading level0 row7\" >40+</th>\n",
       "      <td id=\"T_a5235_row7_col0\" class=\"data row7 col0\" >12</td>\n",
       "      <td id=\"T_a5235_row7_col1\" class=\"data row7 col1\" >2.08%</td>\n",
       "    </tr>\n",
       "  </tbody>\n",
       "</table>\n"
      ],
      "text/plain": [
       "<pandas.io.formats.style.Styler at 0x1ec4a12a208>"
      ]
     },
     "execution_count": 517,
     "metadata": {},
     "output_type": "execute_result"
    }
   ],
   "source": [
    "age_bin=[0,10,15,20,25,30,35,40,100]\n",
    "age_category=[\"<10\",\"10-14\",\"15-19\",\"20-24\",\"25-29\",\"30-34\",\"35-39\",\"40+\"]\n",
    "purchase_data[\"Age Category\"]=pd.cut(purchase_data[\"Age\"],age_bin,labels=age_category,right=False)\n",
    "my_index_series = pd.Series(age_category)\n",
    "total_count_age=[]\n",
    "for i in age_category:\n",
    "    total_count_age.append(purchase_data.loc[purchase_data[\"Age Category\"]==i,\"SN\"].nunique())\n",
    "age_demo_data= pd.DataFrame({\"Total Count\":total_count_age,\n",
    "                              \"Percentage of Players\":[x /Total_player for x in total_count_age]})\n",
    "age_demo_data.set_index(my_index_series,inplace=True)\n",
    "gender_demo_df.sort_index(inplace=True)\n",
    "age_demo_data[\"Percentage of Players\"]=age_demo_data[\"Percentage of Players\"].map(lambda x: x*100).map(\"{:.2f}%\".format)\n",
    "left_aligned_age_demo_data = age_demo_data.style.set_properties(**{'text-align': 'left'})\n",
    "left_aligned_age_demo_data"
   ]
  },
  {
   "cell_type": "markdown",
   "metadata": {},
   "source": [
    "## Purchasing Analysis (Age)"
   ]
  },
  {
   "cell_type": "markdown",
   "metadata": {},
   "source": [
    "* Bin the purchase_data data frame by age\n",
    "\n",
    "\n",
    "* Run basic calculations to obtain purchase count, avg. purchase price, avg. purchase total per person etc. in the table below\n",
    "\n",
    "\n",
    "* Create a summary data frame to hold the results\n",
    "\n",
    "\n",
    "* Optional: give the displayed data cleaner formatting\n",
    "\n",
    "\n",
    "* Display the summary data frame"
   ]
  },
  {
   "cell_type": "code",
   "execution_count": 518,
   "metadata": {},
   "outputs": [
    {
     "data": {
      "text/html": [
       "<style type=\"text/css\">\n",
       "#T_03d7a_row0_col0, #T_03d7a_row0_col1, #T_03d7a_row0_col2, #T_03d7a_row0_col3, #T_03d7a_row1_col0, #T_03d7a_row1_col1, #T_03d7a_row1_col2, #T_03d7a_row1_col3, #T_03d7a_row2_col0, #T_03d7a_row2_col1, #T_03d7a_row2_col2, #T_03d7a_row2_col3, #T_03d7a_row3_col0, #T_03d7a_row3_col1, #T_03d7a_row3_col2, #T_03d7a_row3_col3, #T_03d7a_row4_col0, #T_03d7a_row4_col1, #T_03d7a_row4_col2, #T_03d7a_row4_col3, #T_03d7a_row5_col0, #T_03d7a_row5_col1, #T_03d7a_row5_col2, #T_03d7a_row5_col3, #T_03d7a_row6_col0, #T_03d7a_row6_col1, #T_03d7a_row6_col2, #T_03d7a_row6_col3, #T_03d7a_row7_col0, #T_03d7a_row7_col1, #T_03d7a_row7_col2, #T_03d7a_row7_col3 {\n",
       "  text-align: left;\n",
       "}\n",
       "</style>\n",
       "<table id=\"T_03d7a_\">\n",
       "  <thead>\n",
       "    <tr>\n",
       "      <th class=\"blank level0\" >&nbsp;</th>\n",
       "      <th class=\"col_heading level0 col0\" >Purchase Count</th>\n",
       "      <th class=\"col_heading level0 col1\" >Average Purchase Price</th>\n",
       "      <th class=\"col_heading level0 col2\" >Total Purchase Value</th>\n",
       "      <th class=\"col_heading level0 col3\" >Avg Total Purchase per Person</th>\n",
       "    </tr>\n",
       "    <tr>\n",
       "      <th class=\"index_name level0\" >Age Ranges</th>\n",
       "      <th class=\"blank col0\" >&nbsp;</th>\n",
       "      <th class=\"blank col1\" >&nbsp;</th>\n",
       "      <th class=\"blank col2\" >&nbsp;</th>\n",
       "      <th class=\"blank col3\" >&nbsp;</th>\n",
       "    </tr>\n",
       "  </thead>\n",
       "  <tbody>\n",
       "    <tr>\n",
       "      <th id=\"T_03d7a_level0_row0\" class=\"row_heading level0 row0\" ><10</th>\n",
       "      <td id=\"T_03d7a_row0_col0\" class=\"data row0 col0\" >23</td>\n",
       "      <td id=\"T_03d7a_row0_col1\" class=\"data row0 col1\" >$3.35</td>\n",
       "      <td id=\"T_03d7a_row0_col2\" class=\"data row0 col2\" >$77.13</td>\n",
       "      <td id=\"T_03d7a_row0_col3\" class=\"data row0 col3\" >$4.54</td>\n",
       "    </tr>\n",
       "    <tr>\n",
       "      <th id=\"T_03d7a_level0_row1\" class=\"row_heading level0 row1\" >10-14</th>\n",
       "      <td id=\"T_03d7a_row1_col0\" class=\"data row1 col0\" >28</td>\n",
       "      <td id=\"T_03d7a_row1_col1\" class=\"data row1 col1\" >$2.96</td>\n",
       "      <td id=\"T_03d7a_row1_col2\" class=\"data row1 col2\" >$82.78</td>\n",
       "      <td id=\"T_03d7a_row1_col3\" class=\"data row1 col3\" >$3.76</td>\n",
       "    </tr>\n",
       "    <tr>\n",
       "      <th id=\"T_03d7a_level0_row2\" class=\"row_heading level0 row2\" >15-19</th>\n",
       "      <td id=\"T_03d7a_row2_col0\" class=\"data row2 col0\" >136</td>\n",
       "      <td id=\"T_03d7a_row2_col1\" class=\"data row2 col1\" >$3.04</td>\n",
       "      <td id=\"T_03d7a_row2_col2\" class=\"data row2 col2\" >$412.89</td>\n",
       "      <td id=\"T_03d7a_row2_col3\" class=\"data row2 col3\" >$3.86</td>\n",
       "    </tr>\n",
       "    <tr>\n",
       "      <th id=\"T_03d7a_level0_row3\" class=\"row_heading level0 row3\" >20-24</th>\n",
       "      <td id=\"T_03d7a_row3_col0\" class=\"data row3 col0\" >365</td>\n",
       "      <td id=\"T_03d7a_row3_col1\" class=\"data row3 col1\" >$3.05</td>\n",
       "      <td id=\"T_03d7a_row3_col2\" class=\"data row3 col2\" >$1,114.06</td>\n",
       "      <td id=\"T_03d7a_row3_col3\" class=\"data row3 col3\" >$4.32</td>\n",
       "    </tr>\n",
       "    <tr>\n",
       "      <th id=\"T_03d7a_level0_row4\" class=\"row_heading level0 row4\" >25-29</th>\n",
       "      <td id=\"T_03d7a_row4_col0\" class=\"data row4 col0\" >101</td>\n",
       "      <td id=\"T_03d7a_row4_col1\" class=\"data row4 col1\" >$2.90</td>\n",
       "      <td id=\"T_03d7a_row4_col2\" class=\"data row4 col2\" >$293.00</td>\n",
       "      <td id=\"T_03d7a_row4_col3\" class=\"data row4 col3\" >$3.81</td>\n",
       "    </tr>\n",
       "    <tr>\n",
       "      <th id=\"T_03d7a_level0_row5\" class=\"row_heading level0 row5\" >30-34</th>\n",
       "      <td id=\"T_03d7a_row5_col0\" class=\"data row5 col0\" >73</td>\n",
       "      <td id=\"T_03d7a_row5_col1\" class=\"data row5 col1\" >$2.93</td>\n",
       "      <td id=\"T_03d7a_row5_col2\" class=\"data row5 col2\" >$214.00</td>\n",
       "      <td id=\"T_03d7a_row5_col3\" class=\"data row5 col3\" >$4.12</td>\n",
       "    </tr>\n",
       "    <tr>\n",
       "      <th id=\"T_03d7a_level0_row6\" class=\"row_heading level0 row6\" >35-39</th>\n",
       "      <td id=\"T_03d7a_row6_col0\" class=\"data row6 col0\" >41</td>\n",
       "      <td id=\"T_03d7a_row6_col1\" class=\"data row6 col1\" >$3.60</td>\n",
       "      <td id=\"T_03d7a_row6_col2\" class=\"data row6 col2\" >$147.67</td>\n",
       "      <td id=\"T_03d7a_row6_col3\" class=\"data row6 col3\" >$4.76</td>\n",
       "    </tr>\n",
       "    <tr>\n",
       "      <th id=\"T_03d7a_level0_row7\" class=\"row_heading level0 row7\" >40+</th>\n",
       "      <td id=\"T_03d7a_row7_col0\" class=\"data row7 col0\" >13</td>\n",
       "      <td id=\"T_03d7a_row7_col1\" class=\"data row7 col1\" >$2.94</td>\n",
       "      <td id=\"T_03d7a_row7_col2\" class=\"data row7 col2\" >$38.24</td>\n",
       "      <td id=\"T_03d7a_row7_col3\" class=\"data row7 col3\" >$3.19</td>\n",
       "    </tr>\n",
       "  </tbody>\n",
       "</table>\n"
      ],
      "text/plain": [
       "<pandas.io.formats.style.Styler at 0x1ec49fd5148>"
      ]
     },
     "execution_count": 518,
     "metadata": {},
     "output_type": "execute_result"
    }
   ],
   "source": [
    "purchase_count_age_category=[]\n",
    "average_price_age_category=[]\n",
    "total_price_age_category=[]\n",
    "total_price_person_age_category=[]\n",
    "for i in age_category:\n",
    "    purchase_count_age_category.append(purchase_data.loc[purchase_data[\"Age Category\"]==i,\"Price\"].count())\n",
    "    average_price_age_category.append(purchase_data.loc[purchase_data[\"Age Category\"]==i,\"Price\"].mean())\n",
    "    total_price_age_category.append(purchase_data.loc[purchase_data[\"Age Category\"]==i,\"Price\"].sum())\n",
    "    total_price_person_age_category.append(purchase_data.loc[purchase_data[\"Age Category\"]==i,\"Price\"].sum() /\n",
    "                                     purchase_data.loc[purchase_data[\"Age Category\"]==i,\"SN\"].nunique())\n",
    "age_category_purchase_df = pd.DataFrame({\"Age Ranges\":age_category,\n",
    "                                   \"Purchase Count\":purchase_count_age_category,\n",
    "                                   \"Average Purchase Price\":average_price_age_category,\n",
    "                                   \"Total Purchase Value\":total_price_age_category,\n",
    "                                   \"Avg Total Purchase per Person\":total_price_person_age_category})\n",
    "group_age_category_purchase_df=age_category_purchase_df.set_index(\"Age Ranges\")\n",
    "group_age_category_purchase_df[\"Average Purchase Price\"] = group_age_category_purchase_df[\"Average Purchase Price\"].map(\"${:.2f}\".format)\n",
    "group_age_category_purchase_df[\"Total Purchase Value\"] = group_age_category_purchase_df[\"Total Purchase Value\"].map(\"${:,.2f}\".format)\n",
    "group_age_category_purchase_df[\"Avg Total Purchase per Person\"] = group_age_category_purchase_df[\"Avg Total Purchase per Person\"].map(\"${:.2f}\".format)\n",
    "left_aligned_age_category_purchase_df = group_age_category_purchase_df.style.set_properties(**{'text-align': 'left'})\n",
    "left_aligned_age_category_purchase_df\n"
   ]
  },
  {
   "cell_type": "markdown",
   "metadata": {},
   "source": [
    "## Top Spenders"
   ]
  },
  {
   "cell_type": "markdown",
   "metadata": {},
   "source": [
    "* Run basic calculations to obtain the results in the table below\n",
    "\n",
    "\n",
    "* Create a summary data frame to hold the results\n",
    "\n",
    "\n",
    "* Sort the total purchase value column in descending order\n",
    "\n",
    "\n",
    "* Optional: give the displayed data cleaner formatting\n",
    "\n",
    "\n",
    "* Display a preview of the summary data frame\n",
    "\n"
   ]
  },
  {
   "cell_type": "code",
   "execution_count": 519,
   "metadata": {},
   "outputs": [
    {
     "data": {
      "text/html": [
       "<style type=\"text/css\">\n",
       "#T_db78f_row0_col0, #T_db78f_row0_col1, #T_db78f_row0_col2, #T_db78f_row1_col0, #T_db78f_row1_col1, #T_db78f_row1_col2, #T_db78f_row2_col0, #T_db78f_row2_col1, #T_db78f_row2_col2, #T_db78f_row3_col0, #T_db78f_row3_col1, #T_db78f_row3_col2, #T_db78f_row4_col0, #T_db78f_row4_col1, #T_db78f_row4_col2 {\n",
       "  text-align: left;\n",
       "}\n",
       "</style>\n",
       "<table id=\"T_db78f_\">\n",
       "  <thead>\n",
       "    <tr>\n",
       "      <th class=\"blank level0\" >&nbsp;</th>\n",
       "      <th class=\"col_heading level0 col0\" >Purchase Count</th>\n",
       "      <th class=\"col_heading level0 col1\" >Average Purchase Price</th>\n",
       "      <th class=\"col_heading level0 col2\" >Total Purchase Value</th>\n",
       "    </tr>\n",
       "    <tr>\n",
       "      <th class=\"index_name level0\" >SN</th>\n",
       "      <th class=\"blank col0\" >&nbsp;</th>\n",
       "      <th class=\"blank col1\" >&nbsp;</th>\n",
       "      <th class=\"blank col2\" >&nbsp;</th>\n",
       "    </tr>\n",
       "  </thead>\n",
       "  <tbody>\n",
       "    <tr>\n",
       "      <th id=\"T_db78f_level0_row0\" class=\"row_heading level0 row0\" >Lisosia93</th>\n",
       "      <td id=\"T_db78f_row0_col0\" class=\"data row0 col0\" >5</td>\n",
       "      <td id=\"T_db78f_row0_col1\" class=\"data row0 col1\" >$3.79</td>\n",
       "      <td id=\"T_db78f_row0_col2\" class=\"data row0 col2\" >$18.96</td>\n",
       "    </tr>\n",
       "    <tr>\n",
       "      <th id=\"T_db78f_level0_row1\" class=\"row_heading level0 row1\" >Idastidru52</th>\n",
       "      <td id=\"T_db78f_row1_col0\" class=\"data row1 col0\" >4</td>\n",
       "      <td id=\"T_db78f_row1_col1\" class=\"data row1 col1\" >$3.86</td>\n",
       "      <td id=\"T_db78f_row1_col2\" class=\"data row1 col2\" >$15.45</td>\n",
       "    </tr>\n",
       "    <tr>\n",
       "      <th id=\"T_db78f_level0_row2\" class=\"row_heading level0 row2\" >Chamjask73</th>\n",
       "      <td id=\"T_db78f_row2_col0\" class=\"data row2 col0\" >3</td>\n",
       "      <td id=\"T_db78f_row2_col1\" class=\"data row2 col1\" >$4.61</td>\n",
       "      <td id=\"T_db78f_row2_col2\" class=\"data row2 col2\" >$13.83</td>\n",
       "    </tr>\n",
       "    <tr>\n",
       "      <th id=\"T_db78f_level0_row3\" class=\"row_heading level0 row3\" >Iral74</th>\n",
       "      <td id=\"T_db78f_row3_col0\" class=\"data row3 col0\" >4</td>\n",
       "      <td id=\"T_db78f_row3_col1\" class=\"data row3 col1\" >$3.40</td>\n",
       "      <td id=\"T_db78f_row3_col2\" class=\"data row3 col2\" >$13.62</td>\n",
       "    </tr>\n",
       "    <tr>\n",
       "      <th id=\"T_db78f_level0_row4\" class=\"row_heading level0 row4\" >Iskadarya95</th>\n",
       "      <td id=\"T_db78f_row4_col0\" class=\"data row4 col0\" >3</td>\n",
       "      <td id=\"T_db78f_row4_col1\" class=\"data row4 col1\" >$4.37</td>\n",
       "      <td id=\"T_db78f_row4_col2\" class=\"data row4 col2\" >$13.10</td>\n",
       "    </tr>\n",
       "  </tbody>\n",
       "</table>\n"
      ],
      "text/plain": [
       "<pandas.io.formats.style.Styler at 0x1ec49fd8188>"
      ]
     },
     "execution_count": 519,
     "metadata": {},
     "output_type": "execute_result"
    }
   ],
   "source": [
    "top_purchase_user_df=purchase_data.groupby(\"SN\").sum().reset_index()\n",
    "top_purchase_user_df= top_purchase_user_df.sort_values([\"Price\"],ascending=False).head(5)\n",
    "top_five_purchasers = top_purchase_user_df[\"SN\"].unique()\n",
    "top_five_index = pd.Series(top_five_purchasers)\n",
    "purchase_count_top_five =[]\n",
    "average_purchase_price_top_five=[]\n",
    "total_purchase_value=[]\n",
    "for i in top_five_purchasers:\n",
    "    purchase_count_top_five.append(purchase_data.loc[purchase_data[\"SN\"]==i,\"Price\"].count())\n",
    "    average_purchase_price_top_five.append(purchase_data.loc[purchase_data[\"SN\"]==i,\"Price\"].mean())\n",
    "    total_purchase_value.append(purchase_data.loc[purchase_data[\"SN\"]==i,\"Price\"].sum())\n",
    "summary_top_spenders = pd.DataFrame({\"SN\":top_five_purchasers,\n",
    "                                   \"Purchase Count\":purchase_count_top_five,\n",
    "                                   \"Average Purchase Price\":average_purchase_price_top_five,\n",
    "                                   \"Total Purchase Value\":total_purchase_value})\n",
    "group_sn_purchase_df=summary_top_spenders.set_index(\"SN\")\n",
    "group_sn_purchase_df[\"Average Purchase Price\"] = group_sn_purchase_df[\"Average Purchase Price\"].map(\"${:.2f}\".format)\n",
    "group_sn_purchase_df[\"Total Purchase Value\"] = group_sn_purchase_df[\"Total Purchase Value\"].map(\"${:,.2f}\".format)\n",
    "left_aligned_sn_purchase_df = group_sn_purchase_df.style.set_properties(**{'text-align': 'left'})\n",
    "left_aligned_sn_purchase_df"
   ]
  },
  {
   "cell_type": "markdown",
   "metadata": {},
   "source": [
    "## Most Popular Items"
   ]
  },
  {
   "cell_type": "markdown",
   "metadata": {},
   "source": [
    "* Retrieve the Item ID, Item Name, and Item Price columns\n",
    "\n",
    "\n",
    "* Group by Item ID and Item Name. Perform calculations to obtain purchase count, item price, and total purchase value\n",
    "\n",
    "\n",
    "* Create a summary data frame to hold the results\n",
    "\n",
    "\n",
    "* Sort the purchase count column in descending order\n",
    "\n",
    "\n",
    "* Optional: give the displayed data cleaner formatting\n",
    "\n",
    "\n",
    "* Display a preview of the summary data frame\n",
    "\n"
   ]
  },
  {
   "cell_type": "code",
   "execution_count": 523,
   "metadata": {},
   "outputs": [
    {
     "name": "stderr",
     "output_type": "stream",
     "text": [
      "c:\\Users\\datqu\\anaconda3\\envs\\bootcamp\\lib\\site-packages\\ipykernel_launcher.py:2: SettingWithCopyWarning: \n",
      "A value is trying to be set on a copy of a slice from a DataFrame.\n",
      "Try using .loc[row_indexer,col_indexer] = value instead\n",
      "\n",
      "See the caveats in the documentation: https://pandas.pydata.org/pandas-docs/stable/user_guide/indexing.html#returning-a-view-versus-a-copy\n",
      "  \n",
      "c:\\Users\\datqu\\anaconda3\\envs\\bootcamp\\lib\\site-packages\\ipykernel_launcher.py:3: SettingWithCopyWarning: \n",
      "A value is trying to be set on a copy of a slice from a DataFrame.\n",
      "Try using .loc[row_indexer,col_indexer] = value instead\n",
      "\n",
      "See the caveats in the documentation: https://pandas.pydata.org/pandas-docs/stable/user_guide/indexing.html#returning-a-view-versus-a-copy\n",
      "  This is separate from the ipykernel package so we can avoid doing imports until\n",
      "c:\\Users\\datqu\\anaconda3\\envs\\bootcamp\\lib\\site-packages\\ipykernel_launcher.py:4: SettingWithCopyWarning: \n",
      "A value is trying to be set on a copy of a slice from a DataFrame.\n",
      "Try using .loc[row_indexer,col_indexer] = value instead\n",
      "\n",
      "See the caveats in the documentation: https://pandas.pydata.org/pandas-docs/stable/user_guide/indexing.html#returning-a-view-versus-a-copy\n",
      "  after removing the cwd from sys.path.\n"
     ]
    },
    {
     "data": {
      "text/html": [
       "<style type=\"text/css\">\n",
       "#T_5a86a_row0_col0, #T_5a86a_row0_col1, #T_5a86a_row0_col2, #T_5a86a_row1_col0, #T_5a86a_row1_col1, #T_5a86a_row1_col2, #T_5a86a_row2_col0, #T_5a86a_row2_col1, #T_5a86a_row2_col2, #T_5a86a_row3_col0, #T_5a86a_row3_col1, #T_5a86a_row3_col2, #T_5a86a_row4_col0, #T_5a86a_row4_col1, #T_5a86a_row4_col2 {\n",
       "  text-align: left;\n",
       "}\n",
       "</style>\n",
       "<table id=\"T_5a86a_\">\n",
       "  <thead>\n",
       "    <tr>\n",
       "      <th class=\"blank\" >&nbsp;</th>\n",
       "      <th class=\"blank level0\" >&nbsp;</th>\n",
       "      <th class=\"col_heading level0 col0\" >Purchase Count</th>\n",
       "      <th class=\"col_heading level0 col1\" >Item Price</th>\n",
       "      <th class=\"col_heading level0 col2\" >Total Purchase Value</th>\n",
       "    </tr>\n",
       "    <tr>\n",
       "      <th class=\"index_name level0\" >Item ID</th>\n",
       "      <th class=\"index_name level1\" >Item Name</th>\n",
       "      <th class=\"blank col0\" >&nbsp;</th>\n",
       "      <th class=\"blank col1\" >&nbsp;</th>\n",
       "      <th class=\"blank col2\" >&nbsp;</th>\n",
       "    </tr>\n",
       "  </thead>\n",
       "  <tbody>\n",
       "    <tr>\n",
       "      <th id=\"T_5a86a_level0_row0\" class=\"row_heading level0 row0\" >92</th>\n",
       "      <th id=\"T_5a86a_level1_row0\" class=\"row_heading level1 row0\" >Final Critic</th>\n",
       "      <td id=\"T_5a86a_row0_col0\" class=\"data row0 col0\" >13</td>\n",
       "      <td id=\"T_5a86a_row0_col1\" class=\"data row0 col1\" >$4.61</td>\n",
       "      <td id=\"T_5a86a_row0_col2\" class=\"data row0 col2\" >$59.99</td>\n",
       "    </tr>\n",
       "    <tr>\n",
       "      <th id=\"T_5a86a_level0_row1\" class=\"row_heading level0 row1\" >178</th>\n",
       "      <th id=\"T_5a86a_level1_row1\" class=\"row_heading level1 row1\" >Oathbreaker, Last Hope of the Breaking Storm</th>\n",
       "      <td id=\"T_5a86a_row1_col0\" class=\"data row1 col0\" >12</td>\n",
       "      <td id=\"T_5a86a_row1_col1\" class=\"data row1 col1\" >$4.23</td>\n",
       "      <td id=\"T_5a86a_row1_col2\" class=\"data row1 col2\" >$50.76</td>\n",
       "    </tr>\n",
       "    <tr>\n",
       "      <th id=\"T_5a86a_level0_row2\" class=\"row_heading level0 row2\" >145</th>\n",
       "      <th id=\"T_5a86a_level1_row2\" class=\"row_heading level1 row2\" >Fiery Glass Crusader</th>\n",
       "      <td id=\"T_5a86a_row2_col0\" class=\"data row2 col0\" >9</td>\n",
       "      <td id=\"T_5a86a_row2_col1\" class=\"data row2 col1\" >$4.58</td>\n",
       "      <td id=\"T_5a86a_row2_col2\" class=\"data row2 col2\" >$41.22</td>\n",
       "    </tr>\n",
       "    <tr>\n",
       "      <th id=\"T_5a86a_level0_row3\" class=\"row_heading level0 row3\" >132</th>\n",
       "      <th id=\"T_5a86a_level1_row3\" class=\"row_heading level1 row3\" >Persuasion</th>\n",
       "      <td id=\"T_5a86a_row3_col0\" class=\"data row3 col0\" >9</td>\n",
       "      <td id=\"T_5a86a_row3_col1\" class=\"data row3 col1\" >$3.22</td>\n",
       "      <td id=\"T_5a86a_row3_col2\" class=\"data row3 col2\" >$28.99</td>\n",
       "    </tr>\n",
       "    <tr>\n",
       "      <th id=\"T_5a86a_level0_row4\" class=\"row_heading level0 row4\" >108</th>\n",
       "      <th id=\"T_5a86a_level1_row4\" class=\"row_heading level1 row4\" >Extraction, Quickblade Of Trembling Hands</th>\n",
       "      <td id=\"T_5a86a_row4_col0\" class=\"data row4 col0\" >9</td>\n",
       "      <td id=\"T_5a86a_row4_col1\" class=\"data row4 col1\" >$3.53</td>\n",
       "      <td id=\"T_5a86a_row4_col2\" class=\"data row4 col2\" >$31.77</td>\n",
       "    </tr>\n",
       "  </tbody>\n",
       "</table>\n"
      ],
      "text/plain": [
       "<pandas.io.formats.style.Styler at 0x1ec4a155dc8>"
      ]
     },
     "execution_count": 523,
     "metadata": {},
     "output_type": "execute_result"
    }
   ],
   "source": [
    "popular_items = purchase_data[[\"Item ID\",\"Item Name\",\"Price\"]]\n",
    "popular_items[\"Purchase Count\"] = popular_items.groupby([\"Item ID\",\"Item Name\"])[\"Price\"].transform(\"count\")\n",
    "popular_items[\"Item Price\"] = popular_items.groupby([\"Item ID\",\"Item Name\"])[\"Price\"].transform(\"mean\")\n",
    "popular_items[\"Total Purchase Value\"] = popular_items.groupby([\"Item ID\",\"Item Name\"])[\"Price\"].transform(\"sum\")\n",
    "summary_popular_items = popular_items.drop(columns=\"Price\")\n",
    "group_summary_popular_items=summary_popular_items.groupby([\"Item ID\",\"Item Name\"]).mean().sort_values(\"Purchase Count\",ascending=False)\n",
    "group_summary_popular_items[\"Purchase Count\"]=group_summary_popular_items[\"Purchase Count\"].map(\"{:.0f}\".format)\n",
    "group_summary_popular_items[\"Item Price\"]=group_summary_popular_items[\"Item Price\"].map(\"${:.2f}\".format)\n",
    "group_summary_popular_items[\"Total Purchase Value\"]=group_summary_popular_items[\"Total Purchase Value\"].map(\"${:.2f}\".format)\n",
    "preview_summary_popular_items = group_summary_popular_items.head(5)\n",
    "left_aligned_summary_popular_items_df = preview_summary_popular_items.style.set_properties(**{'text-align': 'left'})\n",
    "left_aligned_summary_popular_items_df"
   ]
  },
  {
   "cell_type": "markdown",
   "metadata": {},
   "source": [
    "## Most Profitable Items"
   ]
  },
  {
   "cell_type": "markdown",
   "metadata": {},
   "source": [
    "* Sort the above table by total purchase value in descending order\n",
    "\n",
    "\n",
    "* Optional: give the displayed data cleaner formatting\n",
    "\n",
    "\n",
    "* Display a preview of the data frame\n",
    "\n"
   ]
  },
  {
   "cell_type": "code",
   "execution_count": 525,
   "metadata": {
    "scrolled": true
   },
   "outputs": [
    {
     "data": {
      "text/html": [
       "<style type=\"text/css\">\n",
       "#T_e04f2_row0_col0, #T_e04f2_row0_col1, #T_e04f2_row0_col2, #T_e04f2_row1_col0, #T_e04f2_row1_col1, #T_e04f2_row1_col2, #T_e04f2_row2_col0, #T_e04f2_row2_col1, #T_e04f2_row2_col2, #T_e04f2_row3_col0, #T_e04f2_row3_col1, #T_e04f2_row3_col2, #T_e04f2_row4_col0, #T_e04f2_row4_col1, #T_e04f2_row4_col2 {\n",
       "  text-align: left;\n",
       "}\n",
       "</style>\n",
       "<table id=\"T_e04f2_\">\n",
       "  <thead>\n",
       "    <tr>\n",
       "      <th class=\"blank\" >&nbsp;</th>\n",
       "      <th class=\"blank level0\" >&nbsp;</th>\n",
       "      <th class=\"col_heading level0 col0\" >Purchase Count</th>\n",
       "      <th class=\"col_heading level0 col1\" >Item Price</th>\n",
       "      <th class=\"col_heading level0 col2\" >Total Purchase Value</th>\n",
       "    </tr>\n",
       "    <tr>\n",
       "      <th class=\"index_name level0\" >Item ID</th>\n",
       "      <th class=\"index_name level1\" >Item Name</th>\n",
       "      <th class=\"blank col0\" >&nbsp;</th>\n",
       "      <th class=\"blank col1\" >&nbsp;</th>\n",
       "      <th class=\"blank col2\" >&nbsp;</th>\n",
       "    </tr>\n",
       "  </thead>\n",
       "  <tbody>\n",
       "    <tr>\n",
       "      <th id=\"T_e04f2_level0_row0\" class=\"row_heading level0 row0\" >92</th>\n",
       "      <th id=\"T_e04f2_level1_row0\" class=\"row_heading level1 row0\" >Final Critic</th>\n",
       "      <td id=\"T_e04f2_row0_col0\" class=\"data row0 col0\" >13</td>\n",
       "      <td id=\"T_e04f2_row0_col1\" class=\"data row0 col1\" >$4.61</td>\n",
       "      <td id=\"T_e04f2_row0_col2\" class=\"data row0 col2\" >$59.99</td>\n",
       "    </tr>\n",
       "    <tr>\n",
       "      <th id=\"T_e04f2_level0_row1\" class=\"row_heading level0 row1\" >178</th>\n",
       "      <th id=\"T_e04f2_level1_row1\" class=\"row_heading level1 row1\" >Oathbreaker, Last Hope of the Breaking Storm</th>\n",
       "      <td id=\"T_e04f2_row1_col0\" class=\"data row1 col0\" >12</td>\n",
       "      <td id=\"T_e04f2_row1_col1\" class=\"data row1 col1\" >$4.23</td>\n",
       "      <td id=\"T_e04f2_row1_col2\" class=\"data row1 col2\" >$50.76</td>\n",
       "    </tr>\n",
       "    <tr>\n",
       "      <th id=\"T_e04f2_level0_row2\" class=\"row_heading level0 row2\" >82</th>\n",
       "      <th id=\"T_e04f2_level1_row2\" class=\"row_heading level1 row2\" >Nirvana</th>\n",
       "      <td id=\"T_e04f2_row2_col0\" class=\"data row2 col0\" >9</td>\n",
       "      <td id=\"T_e04f2_row2_col1\" class=\"data row2 col1\" >$4.90</td>\n",
       "      <td id=\"T_e04f2_row2_col2\" class=\"data row2 col2\" >$44.10</td>\n",
       "    </tr>\n",
       "    <tr>\n",
       "      <th id=\"T_e04f2_level0_row3\" class=\"row_heading level0 row3\" >145</th>\n",
       "      <th id=\"T_e04f2_level1_row3\" class=\"row_heading level1 row3\" >Fiery Glass Crusader</th>\n",
       "      <td id=\"T_e04f2_row3_col0\" class=\"data row3 col0\" >9</td>\n",
       "      <td id=\"T_e04f2_row3_col1\" class=\"data row3 col1\" >$4.58</td>\n",
       "      <td id=\"T_e04f2_row3_col2\" class=\"data row3 col2\" >$41.22</td>\n",
       "    </tr>\n",
       "    <tr>\n",
       "      <th id=\"T_e04f2_level0_row4\" class=\"row_heading level0 row4\" >103</th>\n",
       "      <th id=\"T_e04f2_level1_row4\" class=\"row_heading level1 row4\" >Singed Scalpel</th>\n",
       "      <td id=\"T_e04f2_row4_col0\" class=\"data row4 col0\" >8</td>\n",
       "      <td id=\"T_e04f2_row4_col1\" class=\"data row4 col1\" >$4.35</td>\n",
       "      <td id=\"T_e04f2_row4_col2\" class=\"data row4 col2\" >$34.80</td>\n",
       "    </tr>\n",
       "  </tbody>\n",
       "</table>\n"
      ],
      "text/plain": [
       "<pandas.io.formats.style.Styler at 0x1ec4a263f08>"
      ]
     },
     "execution_count": 525,
     "metadata": {},
     "output_type": "execute_result"
    }
   ],
   "source": [
    "group_summary_profitable_items=summary_popular_items.groupby([\"Item ID\",\"Item Name\"]).mean().sort_values(\"Total Purchase Value\",ascending=False)\n",
    "group_summary_profitable_items[\"Purchase Count\"]=group_summary_profitable_items[\"Purchase Count\"].map(\"{:.0f}\".format)\n",
    "group_summary_profitable_items[\"Item Price\"]=group_summary_profitable_items[\"Item Price\"].map(\"${:.2f}\".format)\n",
    "group_summary_profitable_items[\"Total Purchase Value\"]=group_summary_profitable_items[\"Total Purchase Value\"].map(\"${:.2f}\".format)\n",
    "preview_summary_profitable_items = group_summary_profitable_items.head(5)\n",
    "left_aligned_summary_profitable_items_df = preview_summary_profitable_items.style.set_properties(**{'text-align': 'left'})\n",
    "left_aligned_summary_profitable_items_df"
   ]
  }
 ],
 "metadata": {
  "anaconda-cloud": {},
  "interpreter": {
   "hash": "a7c284f6c3454d9296f827a682b0575908dd97079acfefde70d6f996863eb3eb"
  },
  "kernel_info": {
   "name": "python3"
  },
  "kernelspec": {
   "display_name": "Python 3.7.13 ('bootcamp')",
   "language": "python",
   "name": "python3"
  },
  "language_info": {
   "codemirror_mode": {
    "name": "ipython",
    "version": 3
   },
   "file_extension": ".py",
   "mimetype": "text/x-python",
   "name": "python",
   "nbconvert_exporter": "python",
   "pygments_lexer": "ipython3",
   "version": "3.7.13"
  },
  "latex_envs": {
   "LaTeX_envs_menu_present": true,
   "autoclose": false,
   "autocomplete": true,
   "bibliofile": "biblio.bib",
   "cite_by": "apalike",
   "current_citInitial": 1,
   "eqLabelWithNumbers": true,
   "eqNumInitial": 1,
   "hotkeys": {
    "equation": "Ctrl-E",
    "itemize": "Ctrl-I"
   },
   "labels_anchors": false,
   "latex_user_defs": false,
   "report_style_numbering": false,
   "user_envs_cfg": false
  },
  "nteract": {
   "version": "0.2.0"
  }
 },
 "nbformat": 4,
 "nbformat_minor": 2
}
